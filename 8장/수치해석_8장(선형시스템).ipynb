{
  "nbformat": 4,
  "nbformat_minor": 0,
  "metadata": {
    "colab": {
      "provenance": [],
      "include_colab_link": true
    },
    "kernelspec": {
      "name": "python3",
      "display_name": "Python 3"
    },
    "language_info": {
      "name": "python"
    }
  },
  "cells": [
    {
      "cell_type": "markdown",
      "metadata": {
        "id": "view-in-github",
        "colab_type": "text"
      },
      "source": [
        "<a href=\"https://colab.research.google.com/github/upwind1993/AI-Mechanical-Engineering/blob/main/8%EC%9E%A5/%EC%88%98%EC%B9%98%ED%95%B4%EC%84%9D_8%EC%9E%A5(%EC%84%A0%ED%98%95%EC%8B%9C%EC%8A%A4%ED%85%9C).ipynb\" target=\"_parent\"><img src=\"https://colab.research.google.com/assets/colab-badge.svg\" alt=\"Open In Colab\"/></a>"
      ]
    },
    {
      "cell_type": "markdown",
      "source": [
        "8장"
      ],
      "metadata": {
        "id": "FhJ8zXf1Iz38"
      }
    },
    {
      "cell_type": "markdown",
      "source": [
        "파이썬을 이용한 선형대수방정식의 풀이"
      ],
      "metadata": {
        "id": "PZfz2TwOuQ2g"
      }
    },
    {
      "cell_type": "code",
      "source": [
        "a = [ 4.3 , 6.5 , 1.9 , -0.4 ]"
      ],
      "metadata": {
        "id": "LROl99vyuUNA"
      },
      "execution_count": 1,
      "outputs": []
    },
    {
      "cell_type": "code",
      "source": [
        "a[2]"
      ],
      "metadata": {
        "colab": {
          "base_uri": "https://localhost:8080/"
        },
        "id": "6XLTREJ0uiHR",
        "outputId": "7918d237-3d68-4c4f-f746-cd2953476b1c"
      },
      "execution_count": 2,
      "outputs": [
        {
          "output_type": "execute_result",
          "data": {
            "text/plain": [
              "1.9"
            ]
          },
          "metadata": {},
          "execution_count": 2
        }
      ]
    },
    {
      "cell_type": "code",
      "source": [
        "a[1:3]"
      ],
      "metadata": {
        "colab": {
          "base_uri": "https://localhost:8080/"
        },
        "id": "HM82CRZHulyf",
        "outputId": "25646563-0a4e-4ff6-ca88-475394148a1d"
      },
      "execution_count": 3,
      "outputs": [
        {
          "output_type": "execute_result",
          "data": {
            "text/plain": [
              "[6.5, 1.9]"
            ]
          },
          "metadata": {},
          "execution_count": 3
        }
      ]
    },
    {
      "cell_type": "code",
      "source": [
        "b = ( 4.3, 6.5, 1.9, -0.4)"
      ],
      "metadata": {
        "id": "uHfwcLWburmY"
      },
      "execution_count": null,
      "outputs": []
    },
    {
      "cell_type": "code",
      "source": [
        "3*a"
      ],
      "metadata": {
        "colab": {
          "base_uri": "https://localhost:8080/"
        },
        "id": "SwGLrM5eu1yM",
        "outputId": "208f33ed-daf0-4176-f10b-f2bc1e9b70e5"
      },
      "execution_count": 6,
      "outputs": [
        {
          "output_type": "execute_result",
          "data": {
            "text/plain": [
              "[4.3, 6.5, 1.9, -0.4, 4.3, 6.5, 1.9, -0.4, 4.3, 6.5, 1.9, -0.4]"
            ]
          },
          "metadata": {},
          "execution_count": 6
        }
      ]
    },
    {
      "cell_type": "code",
      "source": [
        "import numpy as np\n",
        "c = np.array([ 12.5 , 33.6 , -129.1 , -11.4 ])\n",
        "c"
      ],
      "metadata": {
        "colab": {
          "base_uri": "https://localhost:8080/"
        },
        "id": "_fWaDeJDu5FN",
        "outputId": "a4ae5f0c-39a1-4490-85b6-13f2f5e7cbd5"
      },
      "execution_count": 9,
      "outputs": [
        {
          "output_type": "execute_result",
          "data": {
            "text/plain": [
              "array([  12.5,   33.6, -129.1,  -11.4])"
            ]
          },
          "metadata": {},
          "execution_count": 9
        }
      ]
    },
    {
      "cell_type": "code",
      "source": [
        "a = np.array((4.3, 6.5, 1.9, -0.4))\n",
        "a\n"
      ],
      "metadata": {
        "colab": {
          "base_uri": "https://localhost:8080/"
        },
        "id": "UDPqGdkxvFOb",
        "outputId": "f9092e82-ff00-42f8-ca51-c7711e86fe46"
      },
      "execution_count": 10,
      "outputs": [
        {
          "output_type": "execute_result",
          "data": {
            "text/plain": [
              "array([ 4.3,  6.5,  1.9, -0.4])"
            ]
          },
          "metadata": {},
          "execution_count": 10
        }
      ]
    },
    {
      "cell_type": "code",
      "source": [
        "3*c"
      ],
      "metadata": {
        "colab": {
          "base_uri": "https://localhost:8080/"
        },
        "id": "BauW5_WSvJCd",
        "outputId": "9c25b7ae-c06f-494c-a54b-3b5d610cadc8"
      },
      "execution_count": 12,
      "outputs": [
        {
          "output_type": "execute_result",
          "data": {
            "text/plain": [
              "array([  37.5,  100.8, -387.3,  -34.2])"
            ]
          },
          "metadata": {},
          "execution_count": 12
        }
      ]
    },
    {
      "cell_type": "code",
      "source": [
        "a*c"
      ],
      "metadata": {
        "colab": {
          "base_uri": "https://localhost:8080/"
        },
        "id": "BK3KoNfwvOzz",
        "outputId": "07a5a136-cd7c-4434-f490-4054a8aa022e"
      },
      "execution_count": 13,
      "outputs": [
        {
          "output_type": "execute_result",
          "data": {
            "text/plain": [
              "array([  53.75,  218.4 , -245.29,    4.56])"
            ]
          },
          "metadata": {},
          "execution_count": 13
        }
      ]
    },
    {
      "cell_type": "markdown",
      "source": [
        "Column arrangement"
      ],
      "metadata": {
        "id": "x-Vt38IBvVvS"
      }
    },
    {
      "cell_type": "code",
      "source": [
        "b = np.array([ [12.5] , [33.6] , [-129.1] , [-11.4] ])\n",
        "b"
      ],
      "metadata": {
        "colab": {
          "base_uri": "https://localhost:8080/"
        },
        "id": "Cwjs1uLvvZEb",
        "outputId": "c01f9814-eab1-4bcc-cc06-52fe1671d4bb"
      },
      "execution_count": 14,
      "outputs": [
        {
          "output_type": "execute_result",
          "data": {
            "text/plain": [
              "array([[  12.5],\n",
              "       [  33.6],\n",
              "       [-129.1],\n",
              "       [ -11.4]])"
            ]
          },
          "metadata": {},
          "execution_count": 14
        }
      ]
    },
    {
      "cell_type": "code",
      "source": [
        "a.dot(b)"
      ],
      "metadata": {
        "colab": {
          "base_uri": "https://localhost:8080/"
        },
        "id": "bXTsCXotvexg",
        "outputId": "e7214661-7b77-436c-856c-04bb90427f25"
      },
      "execution_count": 15,
      "outputs": [
        {
          "output_type": "execute_result",
          "data": {
            "text/plain": [
              "array([31.42])"
            ]
          },
          "metadata": {},
          "execution_count": 15
        }
      ]
    },
    {
      "cell_type": "code",
      "source": [
        "A = np.array( [[ 3 , 2 ] , [ 6 , 8 ]] )\n",
        "A"
      ],
      "metadata": {
        "colab": {
          "base_uri": "https://localhost:8080/"
        },
        "id": "qQ5s5HsXvkMD",
        "outputId": "20f7a7a4-83bc-449e-8ec4-5af00ec16339"
      },
      "execution_count": 17,
      "outputs": [
        {
          "output_type": "execute_result",
          "data": {
            "text/plain": [
              "array([[3, 2],\n",
              "       [6, 8]])"
            ]
          },
          "metadata": {},
          "execution_count": 17
        }
      ]
    },
    {
      "cell_type": "code",
      "source": [
        "B = np.array( [ [ -6 , 20 ] , [ 7 , -11 ] ] )\n",
        "B"
      ],
      "metadata": {
        "colab": {
          "base_uri": "https://localhost:8080/"
        },
        "id": "m_z1ZSu_vuhx",
        "outputId": "d551f945-6cac-4cd5-a960-5f7b62d9f277"
      },
      "execution_count": 18,
      "outputs": [
        {
          "output_type": "execute_result",
          "data": {
            "text/plain": [
              "array([[ -6,  20],\n",
              "       [  7, -11]])"
            ]
          },
          "metadata": {},
          "execution_count": 18
        }
      ]
    },
    {
      "cell_type": "markdown",
      "source": [
        "Transpose of a 2-Dimensional array"
      ],
      "metadata": {
        "id": "Refb2Pi5vrlE"
      }
    },
    {
      "cell_type": "code",
      "source": [
        "A.transpose()"
      ],
      "metadata": {
        "colab": {
          "base_uri": "https://localhost:8080/"
        },
        "id": "_Nc1A9P8v3hd",
        "outputId": "0723cbeb-70df-4b24-b963-d6437d973c60"
      },
      "execution_count": 19,
      "outputs": [
        {
          "output_type": "execute_result",
          "data": {
            "text/plain": [
              "array([[3, 6],\n",
              "       [2, 8]])"
            ]
          },
          "metadata": {},
          "execution_count": 19
        }
      ]
    },
    {
      "cell_type": "code",
      "source": [
        "np.zeros([3,4])"
      ],
      "metadata": {
        "colab": {
          "base_uri": "https://localhost:8080/"
        },
        "id": "2I4JWGHKv97N",
        "outputId": "f5070380-ed23-4842-d065-52a6939cbc54"
      },
      "execution_count": 20,
      "outputs": [
        {
          "output_type": "execute_result",
          "data": {
            "text/plain": [
              "array([[0., 0., 0., 0.],\n",
              "       [0., 0., 0., 0.],\n",
              "       [0., 0., 0., 0.]])"
            ]
          },
          "metadata": {},
          "execution_count": 20
        }
      ]
    },
    {
      "cell_type": "code",
      "source": [
        "np.ones([4,3])"
      ],
      "metadata": {
        "colab": {
          "base_uri": "https://localhost:8080/"
        },
        "id": "5kdu9jMfwA8R",
        "outputId": "5c95adaa-ed45-4a74-ab2e-a84b5ea9dfcf"
      },
      "execution_count": 21,
      "outputs": [
        {
          "output_type": "execute_result",
          "data": {
            "text/plain": [
              "array([[1., 1., 1.],\n",
              "       [1., 1., 1.],\n",
              "       [1., 1., 1.],\n",
              "       [1., 1., 1.]])"
            ]
          },
          "metadata": {},
          "execution_count": 21
        }
      ]
    },
    {
      "cell_type": "code",
      "source": [
        "np.eye(5,5)"
      ],
      "metadata": {
        "colab": {
          "base_uri": "https://localhost:8080/"
        },
        "id": "H5vuTgrWwCgW",
        "outputId": "c6f34e62-5d11-480b-f477-a5c03d984031"
      },
      "execution_count": 22,
      "outputs": [
        {
          "output_type": "execute_result",
          "data": {
            "text/plain": [
              "array([[1., 0., 0., 0., 0.],\n",
              "       [0., 1., 0., 0., 0.],\n",
              "       [0., 0., 1., 0., 0.],\n",
              "       [0., 0., 0., 1., 0.],\n",
              "       [0., 0., 0., 0., 1.]])"
            ]
          },
          "metadata": {},
          "execution_count": 22
        }
      ]
    },
    {
      "cell_type": "markdown",
      "source": [
        "The matrix structure, a special subclass of the ndarray class\n"
      ],
      "metadata": {
        "id": "k_Ho2DxIwIrN"
      }
    },
    {
      "cell_type": "code",
      "source": [
        "A = np.matrix([[3.6,1.2,-5.7],[12.9,-9.8,0.4],[10.6,2.9,-4.7 ]])\n",
        "A"
      ],
      "metadata": {
        "colab": {
          "base_uri": "https://localhost:8080/"
        },
        "id": "y8xrtgVswLSn",
        "outputId": "45a6c543-9e5c-4fb1-9ca1-128c0ccadf4e"
      },
      "execution_count": 23,
      "outputs": [
        {
          "output_type": "execute_result",
          "data": {
            "text/plain": [
              "matrix([[ 3.6,  1.2, -5.7],\n",
              "        [12.9, -9.8,  0.4],\n",
              "        [10.6,  2.9, -4.7]])"
            ]
          },
          "metadata": {},
          "execution_count": 23
        }
      ]
    },
    {
      "cell_type": "code",
      "source": [
        "q = np.matrix([[23, 10, -5]])\n",
        "q[0,1]"
      ],
      "metadata": {
        "colab": {
          "base_uri": "https://localhost:8080/"
        },
        "collapsed": true,
        "id": "ouvmrIfnwWGB",
        "outputId": "1287de95-c3dc-471d-ca2b-32371962eb27"
      },
      "execution_count": 27,
      "outputs": [
        {
          "output_type": "execute_result",
          "data": {
            "text/plain": [
              "10"
            ]
          },
          "metadata": {},
          "execution_count": 27
        }
      ]
    },
    {
      "cell_type": "code",
      "source": [
        "q*A"
      ],
      "metadata": {
        "colab": {
          "base_uri": "https://localhost:8080/"
        },
        "id": "t3fdFVkbwrUf",
        "outputId": "d266fe9d-36c5-4c92-fc0b-e3d6c3edb603"
      },
      "execution_count": 28,
      "outputs": [
        {
          "output_type": "execute_result",
          "data": {
            "text/plain": [
              "matrix([[ 158.8,  -84.9, -103.6]])"
            ]
          },
          "metadata": {},
          "execution_count": 28
        }
      ]
    },
    {
      "cell_type": "code",
      "source": [
        "A*A"
      ],
      "metadata": {
        "colab": {
          "base_uri": "https://localhost:8080/"
        },
        "id": "N7fu_nO6wtnE",
        "outputId": "92353680-43e4-46e9-99cb-347a3aa89fe5"
      },
      "execution_count": 29,
      "outputs": [
        {
          "output_type": "execute_result",
          "data": {
            "text/plain": [
              "matrix([[-31.98, -23.97,   6.75],\n",
              "        [-75.74, 112.68, -79.33],\n",
              "        [ 25.75, -29.33, -37.17]])"
            ]
          },
          "metadata": {},
          "execution_count": 29
        }
      ]
    },
    {
      "cell_type": "markdown",
      "source": [
        "NumPy linalg Submodule Functions"
      ],
      "metadata": {
        "id": "9AI8ZctOwwDp"
      }
    },
    {
      "cell_type": "code",
      "source": [
        "Ainv = np.linalg.inv(A)\n",
        "Ainv"
      ],
      "metadata": {
        "colab": {
          "base_uri": "https://localhost:8080/"
        },
        "id": "N-1pM731wzNR",
        "outputId": "925b01c2-520d-4a33-ed34-e15e5a5da372"
      },
      "execution_count": 31,
      "outputs": [
        {
          "output_type": "execute_result",
          "data": {
            "text/plain": [
              "matrix([[-0.07934699,  0.01924474,  0.09786717],\n",
              "        [-0.11463784, -0.07687292,  0.13248649],\n",
              "        [-0.24968676, -0.0040292 ,  0.08970274]])"
            ]
          },
          "metadata": {},
          "execution_count": 31
        }
      ]
    },
    {
      "cell_type": "markdown",
      "source": [
        "Frobenius norm (square root of sum of squares of  elements)"
      ],
      "metadata": {
        "id": "LaEkkDabw9IP"
      }
    },
    {
      "cell_type": "code",
      "source": [
        "np.linalg.norm(A)"
      ],
      "metadata": {
        "colab": {
          "base_uri": "https://localhost:8080/"
        },
        "id": "jKlJbrzYw94d",
        "outputId": "83cc8de5-72de-448a-c490-b7eda902587e"
      },
      "execution_count": 32,
      "outputs": [
        {
          "output_type": "execute_result",
          "data": {
            "text/plain": [
              "21.268756428150663"
            ]
          },
          "metadata": {},
          "execution_count": 32
        }
      ]
    },
    {
      "cell_type": "markdown",
      "source": [
        "Determinant"
      ],
      "metadata": {
        "id": "_AzlWOHdxBmZ"
      }
    },
    {
      "cell_type": "code",
      "source": [
        "np.linalg.det(A)"
      ],
      "metadata": {
        "colab": {
          "base_uri": "https://localhost:8080/"
        },
        "id": "pb_HWZyPxE3p",
        "outputId": "c76d3580-47f5-4014-e2dc-2fca3f8b489f"
      },
      "execution_count": 33,
      "outputs": [
        {
          "output_type": "execute_result",
          "data": {
            "text/plain": [
              "-565.8690000000003"
            ]
          },
          "metadata": {},
          "execution_count": 33
        }
      ]
    },
    {
      "cell_type": "markdown",
      "source": [
        "Rank"
      ],
      "metadata": {
        "id": "5LytEi_pxJ9Z"
      }
    },
    {
      "cell_type": "code",
      "source": [
        "np.linalg.matrix_rank(A)"
      ],
      "metadata": {
        "colab": {
          "base_uri": "https://localhost:8080/"
        },
        "id": "YyCuqPB5xKeV",
        "outputId": "c505e579-9f13-4649-8caf-d3ab30cedd62"
      },
      "execution_count": 34,
      "outputs": [
        {
          "output_type": "execute_result",
          "data": {
            "text/plain": [
              "3"
            ]
          },
          "metadata": {},
          "execution_count": 34
        }
      ]
    },
    {
      "cell_type": "markdown",
      "source": [
        "Trace (sum of diagonal elements)\n"
      ],
      "metadata": {
        "id": "RDYUWCWMxRcX"
      }
    },
    {
      "cell_type": "code",
      "source": [
        "np.trace(A)"
      ],
      "metadata": {
        "colab": {
          "base_uri": "https://localhost:8080/"
        },
        "id": "rLoEZBBTxSuH",
        "outputId": "75a17ebf-d3a2-431f-da12-e355493a77a1"
      },
      "execution_count": 35,
      "outputs": [
        {
          "output_type": "execute_result",
          "data": {
            "text/plain": [
              "-10.900000000000002"
            ]
          },
          "metadata": {},
          "execution_count": 35
        }
      ]
    },
    {
      "cell_type": "markdown",
      "source": [
        "Transpose"
      ],
      "metadata": {
        "id": "VAJJlCLbxW7P"
      }
    },
    {
      "cell_type": "code",
      "source": [
        "np.transpose(A)"
      ],
      "metadata": {
        "colab": {
          "base_uri": "https://localhost:8080/"
        },
        "id": "J011e77XxXth",
        "outputId": "be9cd5a5-734b-4ee1-e3cb-489b1233b27e"
      },
      "execution_count": 36,
      "outputs": [
        {
          "output_type": "execute_result",
          "data": {
            "text/plain": [
              "matrix([[ 3.6, 12.9, 10.6],\n",
              "        [ 1.2, -9.8,  2.9],\n",
              "        [-5.7,  0.4, -4.7]])"
            ]
          },
          "metadata": {},
          "execution_count": 36
        }
      ]
    },
    {
      "cell_type": "markdown",
      "source": [
        "Using the matrix inverse to implement <br>\n",
        "x = np.linalg.inv(A)*b <br>\n",
        "Using the more efficient solve function <br>\n",
        "x = np.linalg.solve(A,b)"
      ],
      "metadata": {
        "id": "1wpmSnojxfzf"
      }
    },
    {
      "cell_type": "code",
      "source": [
        "import numpy as np\n",
        "A = np.matrix(' 3.6 1.2 -5.7 ; 12.9 -9.8 0.4 ; 10.6 2.9 -4.7 ')\n",
        "b = np.matrix(' 12.5 ; 33.6 ; -129.1 ')\n",
        "x = np.linalg.solve(A,b)\n",
        "print(x)\n"
      ],
      "metadata": {
        "colab": {
          "base_uri": "https://localhost:8080/"
        },
        "id": "fG3oLzl7xrsk",
        "outputId": "50e7a41c-8cbe-4bcd-e6d8-c12dc8cf658d"
      },
      "execution_count": 37,
      "outputs": [
        {
          "output_type": "stream",
          "name": "stdout",
          "text": [
            "[[-12.97986636]\n",
            " [-21.11990938]\n",
            " [-14.8370895 ]]\n"
          ]
        }
      ]
    },
    {
      "cell_type": "markdown",
      "source": [
        "예제 8.2"
      ],
      "metadata": {
        "id": "PtVDB7fnuF46"
      }
    },
    {
      "cell_type": "code",
      "execution_count": null,
      "metadata": {
        "colab": {
          "base_uri": "https://localhost:8080/"
        },
        "id": "_e-gABiSI2X4",
        "outputId": "5beb9c6a-4a9d-486d-802f-fbcbe824ad85"
      },
      "outputs": [
        {
          "output_type": "stream",
          "name": "stdout",
          "text": [
            "Solution is [[41.202]\n",
            " [55.917]\n",
            " [71.613]]\n"
          ]
        }
      ],
      "source": [
        "import numpy as np\n",
        "A = np.matrix('150 -100 0 ; -100 150 -50 ; 0  -50  50')\n",
        "b = np.matrix('588.6 ; 686.7 ; 784.8')\n",
        "\n",
        "x = np.linalg.solve(A, b)\n",
        "print('Solution is', x)"
      ]
    },
    {
      "cell_type": "markdown",
      "source": [
        "다른 방법으로 계수 행렬의 역행렬을 우변 벡터에 곱하면 동일한 결과를 얻는다"
      ],
      "metadata": {
        "id": "D3RBgVikJiQv"
      }
    },
    {
      "cell_type": "code",
      "source": [
        "x = np.linalg.inv(A) * b\n",
        "print('2nd solution is', x)"
      ],
      "metadata": {
        "colab": {
          "base_uri": "https://localhost:8080/"
        },
        "id": "wAyI6nX6JTgW",
        "outputId": "b84ba4ac-13ac-4b76-a374-6b2a8656d52c"
      },
      "execution_count": null,
      "outputs": [
        {
          "output_type": "stream",
          "name": "stdout",
          "text": [
            "2nd solution is [[41.202]\n",
            " [55.917]\n",
            " [71.613]]\n"
          ]
        }
      ]
    },
    {
      "cell_type": "markdown",
      "source": [
        "세 사람이 20m의 줄에 연결되어 있으므로 기준점에 대한 그들의 초기 위치를 다음과 같이 열벡터 xi로 입력한다."
      ],
      "metadata": {
        "id": "Hq3kgsxVJ6z3"
      }
    },
    {
      "cell_type": "code",
      "source": [
        "xi = np.matrix('20 ; 40 ; 60')\n",
        "xf = x + xi\n",
        "print('Final positions are', xf)"
      ],
      "metadata": {
        "colab": {
          "base_uri": "https://localhost:8080/"
        },
        "id": "gtxurJ-wJ4bu",
        "outputId": "c6d015d5-ba0f-4d24-9e04-cc31c24ee2c5"
      },
      "execution_count": null,
      "outputs": [
        {
          "output_type": "stream",
          "name": "stdout",
          "text": [
            "Final positions are [[ 61.202]\n",
            " [ 95.917]\n",
            " [131.613]]\n"
          ]
        }
      ]
    },
    {
      "cell_type": "markdown",
      "source": [
        "연습문제 8.5"
      ],
      "metadata": {
        "id": "GQcFo7BLLk2c"
      }
    },
    {
      "cell_type": "code",
      "source": [
        "import numpy as np\n",
        "\n",
        "A = np.matrix([[ complex(3,2) , 4 ] , [ complex(0,-1) ,  1 ]])\n",
        "b = np.matrix([ [complex(2,1)] , [3] ])\n",
        "\n",
        "Ainv = np.linalg.inv(A)\n",
        "z = Ainv*b\n",
        "\n",
        "print('Solution for z is:\\n',z)\n"
      ],
      "metadata": {
        "colab": {
          "base_uri": "https://localhost:8080/"
        },
        "id": "A63AyN02Lfjz",
        "outputId": "3999324f-05ee-430c-c3cd-d0fef5520a75"
      },
      "execution_count": null,
      "outputs": [
        {
          "output_type": "stream",
          "name": "stdout",
          "text": [
            "Solution for z is:\n",
            " [[-0.53333333+1.4j       ]\n",
            " [ 1.6       -0.53333333j]]\n"
          ]
        }
      ]
    },
    {
      "cell_type": "markdown",
      "source": [
        "문제 8.11\n",
        "Here is the matrix arrangement for computation of the accelerations:\n",
        "\n",
        "![image.png](data:image/png;base64,iVBORw0KGgoAAAANSUhEUgAAASkAAACSCAYAAAAZ4zyAAAAAAXNSR0ICQMB9xQAAAAlwSFlzAAAOxAAADsQBlSsOGwAAABl0RVh0U29mdHdhcmUATWljcm9zb2Z0IE9mZmljZX/tNXEAABGTSURBVHja7Z1BaxxHFsfb9+wpFiiLWzeB2eSSqRXOydbCMuoIR7AX4VEzuxCLHBbTYIdglsXMOJc1GN8XneJDYJN8gzhfYPUNDPYniD/DZl0906NWj3r6Vfd71VXV/8MjFlKm+r2p+vWrV6/ei54+fRpBIBCIqwIjQCAQQMqmzGbTj1QUvY2i6LeyqHR+F184BPI0OlHRy+r6iNTJS0DKJqRUOqP+fZYmh0maHfqgW/6sSXr/q2fPPnD+OZlt6ovuQ1gzgJQlgz979tUHiVLPk2z2qVf6ZZNdpZLnLi5WaZu6rDsgBUixGzxVauYboC4t1p2DM9cWqw2buqo7IAVIsRp8nqq7vseotA7x+MHXLj2PLZu6pjsgBUixGjz/PeFN/GAcf60DipKLocsYemt1sKPOprPZR07YnOjdcNjVJd0BKUCK3eAmb/zZJLktvn3pMEauyzg79c2L4rCrK7oDUoAUu8F13IT6Bk6TRPw0qcsYC137DySb2JTLrq7oDkgBUqwGN5nY+m/1kbf0s3YdwxQQMvamw4LTrn3rDkgBUvyQypJPY3XygrydmE5P1xJDCUlv1O1PlzEKycbqtM9TShObcunsiu6AFCAlAilqHKN4S+tFtZekD7Nsvm20EAmQ6jKG6ViSkDKJDXHo7IrugBQgxW5w6qQuPiNL9+5FN5JfTOMelHG6juHKQjU6iGDSGZACpAYPKf13URy/VuPxk1EUnzdtKfJM6xvRL2v3oQq5YkGajhECpLh0BqQAqcFD6kTFL4oFpC9j6v/nAkTqbVOwljLOVWOsnn8Zr6HkEvkEKS6dASlAynOD7/9ha2v/507bsFJiYp58qE5e5tcxkqN/UJIIm8bZNMbHN9X3+vP134yi0SsOILoAKU6dASnmNZPdunM9PvoRkHLBk9rferS1P3/UuCUpnTTlp1dR9G5HHZxl82ybA1KbxihvC8ueR+1nEXQShRRxfE6dXdE9HEiZHX4AUg5s9+rE9nUMStKjT9s9Lp1D8KQuxTEZDhEAKUDKOqSMcq0CgZTpZ/kMKR2TK+JvxdYXkAKkvIFUdWs0BEiZ6Ow7pBaxt4vTzerPgBQg1XpSr8quCrrnRZUAatnjECBlqrPvkMqBXJpDxdavL10AqYAg5eqEDykmNQRPKofyFZDqq0YWIAVIeblQGxNUl1szQAqQAqQsQqp2QTogvnpSUnpjuwdIwZPCdg/bPUEoxNHovDiAQeAckAKkACnnBCkIgBQgBUg5LUjmBKQAKUAKAkh5CKkA73r5cncvRN0BKUCqJaQ2VEEApAApyPqa+dvNv1y/+dd/A1LwpAApQAqeFCBlNyZVlBvRhfAms2z3QO2cFUXxdIlc/TvpmIkPMSkpOyEmBUgBUsQvWNdE0iVGstlkNy/aNh0f76XZvfIx85AhJWUnQAqQCg5SEl+GznHRi2+SzXYXNbxH50maHdrKIvalW4yEnQApQAqQIshaUt4y56WaVSwlLvTdo9hUwk7ouwdIhQcp5tbc5ZrcVY+gnEVs0sTBVHzoYCxlJ3QwBqSCgxT3xC4Xait7BKuFOJ2e6u1NsQC5C+ZxQ1cKlBJ2ckV3QAqQYocUZxyj3Jbp0kJcXhiNk4vnkIBUrosDk6vJphJ2ckV3QAqQYodUtbWSLZGAlCvbHU6bUu2ErR4gFSykuL2pviDlmifBZVOKneBFDRRS5S6ybepN17n5dRUd+4RU8Sa2eTLECam8UWkP3qANmzbZyVXdhwCpJSPerDFiMvui3XyJvruKD+//e60eUsKtll0aIw/aKvXcFqi4mjjki9TRgDGHTTfZyWXdBwMpwfVb9/lGD7A4mYlf60lY/rePkCokS5NDnVTow2TKnzVJ77u+SCVs6ovugBQgRRijvgoCBAK5Ys0QqyB4AamQtnsQCCQwTyrPbynFCnR8YBRH5yYxFkAKAgkXUktG/C9nwuPHv8tjiHH03+JnK55UHhiN4x/G0+nxeJwdw5OCQACpKiM+j+P/tGEE23av2tgQkIJAAKkrGUHwnkQglQfM4+QHQAoCAaQ2MqIvSKXJ3sPyqZ7JzXVACgIJH1IFI/7893+OVoyIo1c5Ix4//r0opIr6PcWF0dkkua1vr5vdXA8LUlJ5Vn3lBfmUN9a3rUKZJ5yQ6sKITpDK95hR/O7STfb3P+vSrwUphwYpGxnrNjOsbWfg+2yr0OYJB6RWjFhekVky4te9yYMJlRGieVJDhJStu3+27qrZvsvos61Cmyc28qQAKctj2K6ioMeTbOgQUq1waVuFOE88glT76yRkSGW37lyPj370GVImtZMWLnD0W9dFI1GLylQfLl0o0mUsSVtJzRMu+7bVnQ6pBSOqVQrYILXkg0gVBOoNfxt1a6QhZfp21IFDDndfqoaSiT5cukiP5UK9qTZeFId92+huw5NalWXZkD9V9xx2t2IBQMq0IqTuM8cRI5Gq6W2iD5cu0mO5UP+8TeVQDvu20d2Zu3vDgZRcFQTTCaD/Xh8P9znxufTh1kV6rD7LC7cCBaN9TXV3pgoCPCme54/VyQsj13s6PV2reNqyOil3nzkTfTh0oW6BOMbqsyef6TzhniumusOTCgxSJs9fvNH0BNxL0odZNt+2Hefg0odDF+rz2xzLlXnOOVeM46aAVDiQMgoyL58jS/fudS0ZLLXwqJ/HpQtlPJtjSYkxJJjnCiAFSN2l/m0Ux6/VePxE95ZjO+HrAVJtdbm411kptl/IFQuSy24+QYp7rgBSgBTpyz9R8YtispWbY5a78pjmxPQFKS5dKONdNdaiVHX0zsRmPkGKS2dACpAy2x6VEvnyRD118lJfXfj4pvpexx4W3XtHr0xOYfqAFKcuTePVjTX/8u5nnyTTb0wSJH2BFKfOg4dUtfFCq0YMvkNqf+vR1v78Ecl9L53KFG/FHXV5spXfoJzjc34epy5Ni6dpLP1zMpnd7sNWEvOEW+e2ugNSA93uUcQ0ea+v7Z6ELqayutVAPJL3abvHpTO2e9jusU78Np/lKqRsAcHkbloIkDLVGZACpFgXdZskPRch1VYXaY8tFEjZ8Lg9gtTm6yQsLa2I6fchQ6q47V6I6VG1S5DqokurbY/BGL5Dqo3O8pCqr4LQtZ1VmQ+dqiB0bmkFT8qp8UOqIxWyJyU9Ppcn1aWdFet2r1NLq8pDNCb7lbYR1L81hZTJMwBSw4YUda4MFVKX+GDYKYYVUtWWViYJfb5XQWj68msnr4G4BCkOfaTFR0+KUf9rLJCqhGGWa/pNdT1TGHFVO6vi85oYwQapakurbDw+pib0dfGksN2DJ4XtnvueVLWdVZURKlI/17W1YoFUXbuai2Df5oQ+xKQAKUAqXEg18aGJEZ0g1dTS6oKim49KASlACpAKD1I1fFi1s6IyQjxPinQPDJACpACpoLd7XZ5LFFLUhL6h3N0Tm3w93N3zFlKe3N1zYXwbkCoYsanTjBikTBL6AClACpAaHqTWGLHscmx9u8dpDEAKkAKkwvKkujwHIMW8178oVqbeTmbZ7oHaOdP/1kewujys/l3beIUPMSlJ/fvWLdR5AkgNDFKFnroekD7JyGaT3Tx/bDo+1qeh+ni2bZdaXwLnUvqHBCmX5gkgFRCkqM+v9+B68ukckUX96tF5kmaHRfKqK56U1Pchpb8vkPJtngRTBYHlITyvgkD9MstvwfJdx4WLPzpv27RSou+eBKSk9O/TViHPE44qCJx86FQFYfCeFKEzbfl6UPWNWNSvXn2WYUOGPjsYm3ymlP4m4noHY5fmCbZ7AUGKMgHKOWPlN+JqIk6np9q9N7nzKAUUicUspX/f8A15ngBS1iElu21t2u+XWz5dmoj5JIvP42TdxuQmBgK2447dSOlvrJPwPAtpnlDDMF5Aqtx8YYiNGFafb9hiqPGtSygPK7V9kdBHQn9ftno+zpOgAufdIXXrzoc3jn7yGVLc3gfls6Q9g5DuubngRfk2T5wJnC/5sCFwbuF0LxBIFW8sjnbYTXce81rRFjwdDn0k9DebX3ZsFdo8AaQChVQe4FTqedsJSLnzmE88SwHgrvpI6G8MqJ6D5b7Ok2AgxdItJiBIFZKlyaFOwBP53CS9b3vRSekj/sw92CqUecIFqa4dY1g8qe7dYsKDFATiu3B6Ul06xrBt97p1iwGkIJCQIXWJEYYdY9ggtdYtZnWbm9ItBpCCQEKHVLVjzJIRvzZ3i2GCVLVbzDzLtvMYFSEvBJCCQMKHVLVjDJURLJDa1A1CK5pMZrfhSUEgw4VUF0Z0glRTt5hV3/rGXA5ACgIJEVIrRixLA1c7xqQq+q5gRB3kCJDqtrh1VP9gR51tbA5q434gIAWBCEFKlhF1n8+6uBv77gFSgxCJnKC+c6F8yx8zsZfNu3sb++5JQWq11SNkDduBlHzmPKT+TSmZtd5HVrntTPw+7CVdBWG11dvQKcaaJ+WClwNPqj+xcf/P9v28Pu402raXM1UQSJBaVgDkulNV9rJWwnihFJByR2xWUtBjhd7Mwaa9jCAVRW/WGLHBO6J6WGU+1AbOQxFAqiebE72b4sJsF8hQDmls6cShD0W6jNMYsLZQ562LAFIQ6x6Hzp3hKF/iSo0tDn2kx9lkL0AKkApeTKtBclTilK5jbqITd2VRiXE22QuQAqTC3+oZwEL/vT4a7wOOEjpx6iM9Tp29AClAKmxI6cuj6uSF0bZjOj1dO6RpcaAi1VvPRKeu+lC3lRx2q7MXIAVIBQ8pkwlevM31ottL0odZNt9uO7Zkm3iqTl31oerAYbe6sQApQCpoMQowL7+bLN2717YmmQ1IUT+XQx/KWFx2A6QAKUCK8LdRHL9W4/ET3VuO5YSvR0i10ado/rmWH1TIFRDishsgBUgBUg1Sbm5Zbo5pUjjRJUhdpY+pLpSx6uy2sp1J/AyQAqQGB6n9rUdb+/NHpO+llByZJyeqk5f62sYfbx/NqYUT24wtoVOdPvMv7372STL9hqpLE6Q22U19/qdv80A6NUhfoxcgBUgBUk/Xe8cVHseOuliAlMKJrkCqSR+qLk2Q2jTOF0r9K82SQ7InBUi5Aql+qyBcijkwBIdD2u5t3tLQCie6tN3j1KXtM7Js94hVEACpQDwpPUGLWEThmgNSdMCb3MlzFVJtdGn9IjTIl0JMCpDKxy6fvlR/BqSaxeTqh8uQMtWl9ZxD4ByQMp3c5S1e8cYLodyH5II2KZzoOqTa6gJIAVJWpNo4tYCUjdpHoXhSLowdSh0pQAqQChZSjQmHpfgHIAVIAVLY7nntSdWCzkBcgxSHTsJyDZACpOrjA9HovDjRQeAcnhQ8KUDKKUhpQQoCIAVIAVJOQwrJnIAUIAVIOQ2poQkgBUgBUoCU2xNf6P5cn2P3qVMf9gKkrEMKHYwBKUDKDFK37nx44+gnQAqQwnYP2z1Ht3uAFCA1cEhdFIJTbyezbPdA7Zzpf+tUDV0SV/+uDRR8gZSU/oCUt5BCTMpFb0YvVF0DSV+6zWaT3VE0ejWdjo/30uxeOW0jVE9KQn82SDm+ZgApSOfFRwm66pwxvUgn2Wx3UbN7dJ6k2WGXrHwXusVQRUJ/QAqQgjAu6LUk12UOWTVL30Qk++5xQ0pCfy57AVKAVNiQInT7XVwPer+9eb8Qq55DOSvftImBCx2MqZ8nob+p1HYwBqQAqdClCRblOt1lz2G1YKfT03wblGXb1IYM3CCRBKCE/pzgBaQAqeClKTZUbsN0acEuL2DHyeXvi9LEIB9TMAGRM94loX8rfWrsBUgBUsPY8jG9+alNDKS2ehI6SejP6RkCUoAUvClDaWpiIO1FSejEqT+nFwVIAVKDEv225jptq2tikDfFtOjhcOrEob/xeiDYC5ACpAYjeSBYqedtF3VTE4N8wQkGyyV04tS/FaAI9gKkAKnBSZYmhzpRkf0zk/R+X/W5JHQSf16ivQCpPiAVRW+rdZ9DrjMOgbT12EyaiwJSEAgEAkhBIBBACgKBQAApCAQCSEEgEIgD8n8sVjCBEPhk2gAAAABJRU5ErkJggg==)\n"
      ],
      "metadata": {
        "id": "8cfQXvlUMSTz"
      }
    },
    {
      "cell_type": "code",
      "source": [
        "import numpy as np\n",
        "\n",
        "m1 = 1  # kg\n",
        "m2 = 1\n",
        "m3 = 1\n",
        "\n",
        "k1 = 10  # N/m\n",
        "k2 = 30\n",
        "k3 = 30\n",
        "k4 = 10\n",
        "\n",
        "x1 = 0.05  # m\n",
        "x2 = 0.04\n",
        "x3 = 0.03\n",
        "\n",
        "KM = np.matrix([[(k1+k2)/m1, -k2/m1, 0],\n",
        "                [-k2/m2, (k2+k3)/m2, -k3/m2],\n",
        "                [0, -k3/m3, (k3+k4)/m3]])\n",
        "x = np.matrix([[x1],[x2],[x3]])\n",
        "\n",
        "xdotdot = -KM*x\n",
        "\n",
        "print('Accelerations are:\\n',xdotdot)"
      ],
      "metadata": {
        "colab": {
          "base_uri": "https://localhost:8080/"
        },
        "id": "kMCylUBUND9D",
        "outputId": "5650f382-86bf-4cb2-b1df-d7f8ec1c4862"
      },
      "execution_count": null,
      "outputs": [
        {
          "output_type": "stream",
          "name": "stdout",
          "text": [
            "Accelerations are:\n",
            " [[-8.00000000e-01]\n",
            " [ 1.66533454e-16]\n",
            " [ 0.00000000e+00]]\n"
          ]
        }
      ]
    }
  ]
}