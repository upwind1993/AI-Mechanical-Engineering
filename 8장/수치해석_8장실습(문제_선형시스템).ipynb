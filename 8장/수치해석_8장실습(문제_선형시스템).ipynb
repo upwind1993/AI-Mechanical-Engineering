{
  "nbformat": 4,
  "nbformat_minor": 0,
  "metadata": {
    "colab": {
      "provenance": [],
      "include_colab_link": true
    },
    "kernelspec": {
      "name": "python3",
      "display_name": "Python 3"
    },
    "language_info": {
      "name": "python"
    }
  },
  "cells": [
    {
      "cell_type": "markdown",
      "metadata": {
        "id": "view-in-github",
        "colab_type": "text"
      },
      "source": [
        "<a href=\"https://colab.research.google.com/github/upwind1993/AI-Mechanical-Engineering/blob/main/8%EC%9E%A5/%EC%88%98%EC%B9%98%ED%95%B4%EC%84%9D_8%EC%9E%A5%EC%8B%A4%EC%8A%B5(%EB%AC%B8%EC%A0%9C_%EC%84%A0%ED%98%95%EC%8B%9C%EC%8A%A4%ED%85%9C).ipynb\" target=\"_parent\"><img src=\"https://colab.research.google.com/assets/colab-badge.svg\" alt=\"Open In Colab\"/></a>"
      ]
    },
    {
      "cell_type": "markdown",
      "source": [
        "### 8장 실습(책에 없는 문제)"
      ],
      "metadata": {
        "id": "zzgeFKSmTmKB"
      }
    },
    {
      "cell_type": "markdown",
      "source": [
        "We have six equations.  What are the unknowns?\n",
        "![화면 캡처 2024-09-20 114359.gif](data:image/gif;base64,R0lGODlhjwAiAHAAACH5BAEAACkALAAAAACPACIAhf///7ZmAAAAAAA6kNv////bkDoAAP+2Zma2/wBmttuQOjqQ2///tmYAAGaQ27ZmOjpmtv//25A6AP+2kJC2/2YAOpDb/9u2ZjoAZrb//5A6ZjoAOjo6kAAAZpA6OpCQ2zqQkGZmkNuQkGYAZv/b22Y6kAA6ZraQkGY6ZgAAAAAAAAAAAAAAAAAAAAAAAAAAAAAAAAAAAAAAAAAAAAAAAAAAAAAAAAAAAAAAAAAAAAAAAAAAAAAAAAAAAAAAAAAAAAb/QIBwSCwaj8ikcslsOp/QqHRKrVqv2Kx2y+16v+CweEwum8/otHrNbrvf8Lh8Tq/b7/i8nhoQ+P8DBEh9f36BSoSFh0UFBoYEB4+MjgKBkZWCSYkIAJttAQlDCguIoUKjTKCipEcMDQ5DDxCZRa6wQrK0SQqLnb1qERKcExQHnEjBw8XHSckAxMZIDBUWQhcQSdPVANdOAawAzm0FGBkRGhlL5OboTevn6UkFG9UFHLqM9AD2+NLUQ/O2sVEAqF8RgpKYIMSk5EAHcx4EHnEIUWLDQgnXBCNVAJuSjfs8LgHZcQkvAgqYITmZ8sm3ISDH6WPwQd3MmkwCAqC5BFQB5XCaEvx8og2gvjYHegV7OPGXKwFAiSSl1QjqkQAgQmRaGo8IVq1DnkYdQpHsIbFoYsJsV0StEBEZGIzoClMCUBIEGJTAF8wEXXhtJfglAlcuXSFqYxaea+aS1bXxLlj6MxbAg2qSBTmOWoCCtbP/iADmFqjokcukNf8JtZkIajejC4BdckKQbIND+pi63YwtbyW19812Ehx2uwIoDk/khFy5EXjNPx5PviRa9CfR3oxucsAUlOIj2TLpToU8nD6/dv1RqckP+/bpjyx8b3L9nvv48+vfz7+///8ABijggAQWaOAXQQAAOw==)\n",
        "\n",
        "Arrange the equations accordingly and put into matrix form.\n",
        "![화면 캡처 2024-09-20 114413.gif](data:image/gif;base64,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)\n",
        "\n",
        "\n"
      ],
      "metadata": {
        "id": "WW0yLwKtT3mp"
      }
    },
    {
      "cell_type": "code",
      "source": [
        "import numpy as np\n",
        "\n",
        "angd1 = 30\n",
        "angd2 = 60\n",
        "\n",
        "ang1 = angd1/180*np.pi\n",
        "ang2 = angd2/180*np.pi\n",
        "\n",
        "F1v = -1000\n",
        "\n",
        "A = np.matrix([[-np.cos(ang1), 0, np.cos(ang2), 0,0,0],\n",
        "               [-np.sin(ang1), 0, -np.sin(ang2), 0, 0, 0 ],\n",
        "               [np.cos(ang1), 1, 0, 0, 0, 1],\n",
        "               [np.sin(ang1), 0, 0, 0, 1, 0],\n",
        "               [0, -1, -np.cos(ang2), 0, 0, 0],\n",
        "               [0, 0, np.sin(ang2), 1, 0, 0]])\n",
        "b = np.matrix([[0], [-F1v], [0], [0], [0], [0]])\n",
        "\n",
        "\n",
        "unk = np.linalg.solve(A,b)\n",
        "print('F1 = {0:8.1f} N'.format(unk[0,0]))\n",
        "print('F2 = {0:8.1f} N'.format(unk[1,0]))\n",
        "print('F3 = {0:8.1f} N'.format(unk[2,0]))\n",
        "print('V3 = {0:8.1f} N'.format(unk[3,0]))\n",
        "print('V2 = {0:8.1f} N'.format(unk[4,0]))\n",
        "print('H  = {0:8.1f} N'.format(unk[5,0]))\n",
        "\n"
      ],
      "metadata": {
        "colab": {
          "base_uri": "https://localhost:8080/"
        },
        "id": "vUzJGG4ETzf2",
        "outputId": "3dd83d1a-daa1-4113-aa02-73722165c515"
      },
      "execution_count": null,
      "outputs": [
        {
          "output_type": "stream",
          "name": "stdout",
          "text": [
            "F1 =   -500.0 N\n",
            "F2 =    433.0 N\n",
            "F3 =   -866.0 N\n",
            "V3 =    750.0 N\n",
            "V2 =    250.0 N\n",
            "H  =      0.0 N\n"
          ]
        }
      ]
    }
  ]
}