{
  "nbformat": 4,
  "nbformat_minor": 0,
  "metadata": {
    "colab": {
      "provenance": [],
      "authorship_tag": "ABX9TyMU+OEe4SaE7T+aCQXMXkDm",
      "include_colab_link": true
    },
    "kernelspec": {
      "name": "python3",
      "display_name": "Python 3"
    },
    "language_info": {
      "name": "python"
    }
  },
  "cells": [
    {
      "cell_type": "markdown",
      "metadata": {
        "id": "view-in-github",
        "colab_type": "text"
      },
      "source": [
        "<a href=\"https://colab.research.google.com/github/upwind1993/AI-Mechanical-Engineering/blob/main/9%EC%9E%A5(5_2%EC%A3%BC).ipynb\" target=\"_parent\"><img src=\"https://colab.research.google.com/assets/colab-badge.svg\" alt=\"Open In Colab\"/></a>"
      ]
    },
    {
      "cell_type": "markdown",
      "source": [
        "5-2 주차\n",
        "Gauss Elimination"
      ],
      "metadata": {
        "id": "apxpMXVuf0Nw"
      }
    },
    {
      "cell_type": "markdown",
      "source": [
        "Naive Gauss Elimination: Python Function gaussnaive - 1\n",
        "\n"
      ],
      "metadata": {
        "id": "sqs5-xDBg9vD"
      }
    },
    {
      "cell_type": "markdown",
      "source": [
        "예제 9.3"
      ],
      "metadata": {
        "id": "_G2ZGMaYjQHS"
      }
    },
    {
      "cell_type": "code",
      "source": [
        "import numpy as np\n",
        "\n",
        "def gaussnaive(A, b):\n",
        "    \"\"\"\n",
        "    gaussnaive: naive Gauss elimination\n",
        "    input:\n",
        "    A = coefficient matrix\n",
        "    b = constant vector\n",
        "    output:\n",
        "    x = solution vector\n",
        "    \"\"\"\n",
        "    (n, m) = A.shape\n",
        "    if n != m:\n",
        "        return 'Coefficient matrix A must be square'\n",
        "    nb = n + 1\n",
        "    # build augmented matrix\n",
        "    Aug = np.hstack((A, b))\n",
        "    # forward elimination\n",
        "    for k in range(n - 1):\n",
        "        for i in range(k + 1, n):\n",
        "            factor = Aug[i, k] / Aug[k, k]\n",
        "            Aug[i, k:nb] = Aug[i, k:nb] - factor * Aug[k, k:nb]\n",
        "    # back substitution\n",
        "    x = np.zeros([n, 1]) # create empty x array\n",
        "    x[n - 1] = Aug[n - 1, nb - 1] / Aug[n - 1, n - 1]\n",
        "    for i in range(n - 2, -1, -1):\n",
        "        x[i] = (Aug[i, nb - 1] - np.dot(Aug[i, i + 1:n], x[i + 1:n, 0])) / Aug[i, i]\n",
        "    return x\n",
        "\n",
        "# Coefficient matrix A\n",
        "A = np.array([[3, -0.1, -0.2],\n",
        "              [0.1, 7, -0.3],\n",
        "              [0.3, -0.2, 10]], dtype=float)\n",
        "\n",
        "# Constant vector b\n",
        "b = np.array([[7.85],\n",
        "              [-19.3],\n",
        "              [71.4]], dtype=float)\n",
        "\n",
        "# Solve using the gaussnaive function\n",
        "solution = gaussnaive(A, b)\n",
        "solution\n"
      ],
      "metadata": {
        "colab": {
          "base_uri": "https://localhost:8080/"
        },
        "id": "78UueH8ki42A",
        "outputId": "54e41f1b-ea2e-44b5-fb85-63c31516d38a"
      },
      "execution_count": null,
      "outputs": [
        {
          "output_type": "execute_result",
          "data": {
            "text/plain": [
              "array([[ 3. ],\n",
              "       [-2.5],\n",
              "       [ 7. ]])"
            ]
          },
          "metadata": {},
          "execution_count": 4
        }
      ]
    },
    {
      "cell_type": "markdown",
      "source": [
        "예제 9.4"
      ],
      "metadata": {
        "id": "i3c08jdSjeT-"
      }
    },
    {
      "cell_type": "code",
      "source": [
        "def gausspivot(A, b):\n",
        "    \"\"\"\n",
        "    gausspivot: Gauss elimination with partial pivoting\n",
        "    input:\n",
        "    A = coefficient matrix\n",
        "    b = constant vector\n",
        "    output:\n",
        "    x = solution vector\n",
        "    \"\"\"\n",
        "    (n, m) = A.shape\n",
        "    if n != m:\n",
        "        return 'Coefficient matrix A must be square'\n",
        "    nb = n + 1\n",
        "    # build augmented matrix\n",
        "    Aug = np.hstack((A, b))\n",
        "    # forward elimination\n",
        "    for k in range(n - 1):\n",
        "        # partial pivoting\n",
        "        imax = maxrow(Aug[k:n, k])\n",
        "        ipr = imax + k\n",
        "        if ipr != k:  # no row swap if pivot is max\n",
        "            for j in range(k, nb):  # swap rows k and ipr\n",
        "                temp = Aug[k, j]\n",
        "                Aug[k, j] = Aug[ipr, j]\n",
        "                Aug[ipr, j] = temp\n",
        "        for i in range(k + 1, n):\n",
        "            factor = Aug[i, k] / Aug[k, k]\n",
        "            Aug[i, k:nb] = Aug[i, k:nb] - factor * Aug[k, k:nb]\n",
        "    # back substitution\n",
        "    x = np.zeros([n, 1])  # create empty x array\n",
        "    x[n - 1] = Aug[n - 1, nb - 1] / Aug[n - 1, n - 1]\n",
        "    for i in range(n - 2, -1, -1):\n",
        "        x[i] = (Aug[i, nb - 1] - np.dot(Aug[i, i + 1:n], x[i + 1:n, 0])) / Aug[i, i]\n",
        "    return x\n",
        "\n",
        "def maxrow(avec):\n",
        "    # function to determine the row index of the\n",
        "    # maximum value in a vector\n",
        "    maxrowind = 0\n",
        "    n = len(avec)\n",
        "    amax = abs(avec[0])\n",
        "    for i in range(1, n):\n",
        "        if abs(avec[i]) > amax:\n",
        "            amax = abs(avec[i])\n",
        "            maxrowind = i\n",
        "    return maxrowind\n",
        "\n",
        "# Coefficient matrix A\n",
        "A = np.array([[0.0003, 3.0000],\n",
        "              [1.0000, 1.0000]], dtype=float)\n",
        "\n",
        "# Constant vector b\n",
        "b = np.array([[2.0001],\n",
        "              [1.0000]], dtype=float)\n",
        "\n",
        "# Solve using the gausspivot function\n",
        "solution = gausspivot(A, b)\n",
        "def gausspivot(A, b):\n",
        "    \"\"\"\n",
        "    gausspivot: Gauss elimination with partial pivoting\n",
        "    input:\n",
        "    A = coefficient matrix\n",
        "    b = constant vector\n",
        "    output:\n",
        "    x = solution vector\n",
        "    \"\"\"\n",
        "    (n, m) = A.shape\n",
        "    if n != m:\n",
        "        return 'Coefficient matrix A must be square'\n",
        "    nb = n + 1\n",
        "    # build augmented matrix\n",
        "    Aug = np.hstack((A, b))\n",
        "    # forward elimination\n",
        "    for k in range(n - 1):\n",
        "        # partial pivoting\n",
        "        imax = maxrow(Aug[k:n, k])\n",
        "        ipr = imax + k\n",
        "        if ipr != k:  # no row swap if pivot is max\n",
        "            for j in range(k, nb):  # swap rows k and ipr\n",
        "                temp = Aug[k, j]\n",
        "                Aug[k, j] = Aug[ipr, j]\n",
        "                Aug[ipr, j] = temp\n",
        "        for i in range(k + 1, n):\n",
        "            factor = Aug[i, k] / Aug[k, k]\n",
        "            Aug[i, k:nb] = Aug[i, k:nb] - factor * Aug[k, k:nb]\n",
        "    # back substitution\n",
        "    x = np.zeros([n, 1])  # create empty x array\n",
        "    x[n - 1] = Aug[n - 1, nb - 1] / Aug[n - 1, n - 1]\n",
        "    for i in range(n - 2, -1, -1):\n",
        "        x[i] = (Aug[i, nb - 1] - np.dot(Aug[i, i + 1:n], x[i + 1:n, 0])) / Aug[i, i]\n",
        "    return x\n",
        "\n",
        "def maxrow(avec):\n",
        "    # function to determine the row index of the\n",
        "    # maximum value in a vector\n",
        "    maxrowind = 0\n",
        "    n = len(avec)\n",
        "    amax = abs(avec[0])\n",
        "    for i in range(1, n):\n",
        "        if abs(avec[i]) > amax:\n",
        "            amax = abs(avec[i])\n",
        "            maxrowind = i\n",
        "    return maxrowind\n",
        "\n",
        "# Coefficient matrix A\n",
        "A = np.array([[0.0003, 3.0000],\n",
        "              [1.0000, 1.0000]], dtype=float)\n",
        "\n",
        "# Constant vector b\n",
        "b = np.array([[2.0001],\n",
        "              [1.0000]], dtype=float)\n",
        "\n",
        "# Solve using the gausspivot function\n",
        "solution = gausspivot(A, b)\n",
        "solution\n"
      ],
      "metadata": {
        "colab": {
          "base_uri": "https://localhost:8080/"
        },
        "id": "VEDmLMkPjgU9",
        "outputId": "5e1f4293-127e-4222-e994-deb63611afa6"
      },
      "execution_count": null,
      "outputs": [
        {
          "output_type": "execute_result",
          "data": {
            "text/plain": [
              "array([[0.33333333],\n",
              "       [0.66666667]])"
            ]
          },
          "metadata": {},
          "execution_count": 9
        }
      ]
    },
    {
      "cell_type": "markdown",
      "source": [
        "예제 9.5"
      ],
      "metadata": {
        "id": "syVtPEiLkm27"
      }
    },
    {
      "cell_type": "markdown",
      "source": [
        "Tridiagonal 행렬을 풀어보기\n",
        "\n",
        "scipy.linalg.solve_banded 함수를 사용하여 삼대각 행렬(tridiagonal matrix)의 연립방정식을 풀어보겠습니다. 삼대각 행렬은 주대각선(main diagonal)과, 상부 대각선(super-diagonal), 하부 대각선(sub-diagonal)으로 구성된 행렬입니다.\n",
        "\n",
        "다음은 예제를 만들어서 scipy.linalg.solve_banded로 푸는 과정입니다\n"
      ],
      "metadata": {
        "id": "lJT44FT5f72F"
      }
    },
    {
      "cell_type": "code",
      "source": [
        "import numpy as np\n",
        "\n",
        "def tridiag(e, f, g, r):\n",
        "    \"\"\"\n",
        "    tridiag: solves a set of n linear algebraic equations\n",
        "            with a tridiagonal-banded coefficient matrix\n",
        "    input:\n",
        "    e = subdiagonal vector of length n, first element = 0\n",
        "    f = diagonal vector of length n\n",
        "    g = superdiagonal vector of length n, last element = 0\n",
        "    r = constant vector of length n\n",
        "    output:\n",
        "    x = solution vector of length n\n",
        "    \"\"\"\n",
        "    n = len(f)\n",
        "    # forward elimination\n",
        "    x = np.zeros(n)\n",
        "    for k in range(1, n):\n",
        "        factor = e[k] / f[k - 1]\n",
        "        f[k] = f[k] - factor * g[k - 1]\n",
        "        r[k] = r[k] - factor * r[k - 1]\n",
        "    # back substitution\n",
        "    x[n - 1] = r[n - 1] / f[n - 1]\n",
        "    for k in range(n - 2, -1, -1):\n",
        "        x[k] = (r[k] - g[k] * x[k + 1]) / f[k]\n",
        "    return x\n",
        "\n",
        "# Input vectors\n",
        "b = np.array([40.8, 0.8, 0.8, 200.8], dtype=float)\n",
        "\n",
        "# Coefficients for the tridiagonal system\n",
        "e = np.array([0, -1, -1, -1], dtype=float)  # Sub-diagonal\n",
        "f = np.array([2.04, 2.04, 2.04, 2.04], dtype=float)  # Diagonal\n",
        "g = np.array([-1, -1, -1, 0], dtype=float)  # Super-diagonal\n",
        "\n",
        "# Solve using the tridiag function\n",
        "solution_tridiag = tridiag(e, f, g, b)\n",
        "solution_tridiag"
      ],
      "metadata": {
        "colab": {
          "base_uri": "https://localhost:8080/"
        },
        "id": "xwzmLjUalNc2",
        "outputId": "5d7c7a8c-781f-40c6-a547-f79a0b517e75"
      },
      "execution_count": null,
      "outputs": [
        {
          "output_type": "execute_result",
          "data": {
            "text/plain": [
              "array([ 65.96983437,  93.77846211, 124.53822833, 159.47952369])"
            ]
          },
          "metadata": {},
          "execution_count": 11
        }
      ]
    },
    {
      "cell_type": "markdown",
      "source": [
        "9.5 scipy로 대각행렬 풀기"
      ],
      "metadata": {
        "id": "6P5nTTC4l63P"
      }
    },
    {
      "cell_type": "code",
      "source": [
        "import numpy as np\n",
        "from scipy.linalg import solve_banded\n",
        "\n",
        "# 삼대각 행렬 A를 풀기 위한 우변 벡터\n",
        "b = np.array([40.8, 0.8, 0.8, 200.8], dtype=float)\n",
        "\n",
        "# 삼대각 행렬의 밴드 행렬 표현\n",
        "# 'ab' 행렬은 3개의 행으로 구성됨: 상부 대각선, 주대각선, 하부 대각선\n",
        "ab = np.zeros((3, 4))  # 4x4 행렬이므로 3x4 밴드 행렬 생성\n",
        "ab[0, 1:] = [-1, -1, -1]  # 상부 대각선\n",
        "ab[1, :] = [2.04, 2.04, 2.04, 2.04]  # 주대각선\n",
        "ab[2, :-1] = [-1, -1, -1]  # 하부 대각선\n",
        "\n",
        "# scipy를 사용하여 삼대각 행렬 풀기\n",
        "x_banded = solve_banded((1, 1), ab, b)\n",
        "\n",
        "print(\"Solution using scipy.linalg.solve_banded:\", x_banded)"
      ],
      "metadata": {
        "colab": {
          "base_uri": "https://localhost:8080/"
        },
        "id": "BGea2PqFf0AE",
        "outputId": "c1ef6b84-05d9-40ed-c723-7a49194121d9"
      },
      "execution_count": null,
      "outputs": [
        {
          "output_type": "stream",
          "name": "stdout",
          "text": [
            "Solution using scipy.linalg.solve_banded: [ 65.96983437  93.77846211 124.53822833 159.47952369]\n"
          ]
        }
      ]
    },
    {
      "cell_type": "code",
      "execution_count": null,
      "metadata": {
        "id": "bW6gdYE3fzOv"
      },
      "outputs": [],
      "source": []
    }
  ]
}